{
 "cells": [
  {
   "cell_type": "markdown",
   "id": "ad74003a",
   "metadata": {},
   "source": [
    "# 라이브러리 Import "
   ]
  },
  {
   "cell_type": "markdown",
   "id": "094ded17",
   "metadata": {},
   "source": [
    "## 기본 라이브러리"
   ]
  },
  {
   "cell_type": "code",
   "execution_count": 18,
   "id": "1c3fbdbd",
   "metadata": {
    "ExecuteTime": {
     "end_time": "2022-01-27T14:14:08.098584Z",
     "start_time": "2022-01-27T14:14:08.088583Z"
    }
   },
   "outputs": [],
   "source": [
    "import pandas as pd\n",
    "import numpy as np\n",
    "import matplotlib.pyplot as plt\n",
    "%matplotlib inline"
   ]
  },
  {
   "cell_type": "markdown",
   "id": "13f2d1e6",
   "metadata": {},
   "source": [
    "## Scipy"
   ]
  },
  {
   "cell_type": "code",
   "execution_count": 34,
   "id": "a6922076",
   "metadata": {
    "ExecuteTime": {
     "end_time": "2022-01-27T14:21:54.301856Z",
     "start_time": "2022-01-27T14:21:54.293855Z"
    }
   },
   "outputs": [],
   "source": [
    "from scipy.stats import f_oneway\n",
    "from scipy.stats import spearmanr"
   ]
  },
  {
   "cell_type": "markdown",
   "id": "796f8ac1",
   "metadata": {},
   "source": [
    "# 데이터 로드"
   ]
  },
  {
   "cell_type": "markdown",
   "id": "04075a7e",
   "metadata": {},
   "source": [
    "## train data"
   ]
  },
  {
   "cell_type": "code",
   "execution_count": 2,
   "id": "90fdde92",
   "metadata": {
    "ExecuteTime": {
     "end_time": "2022-01-27T14:01:08.684401Z",
     "start_time": "2022-01-27T14:01:08.655703Z"
    }
   },
   "outputs": [
    {
     "data": {
      "text/html": [
       "<div>\n",
       "<style scoped>\n",
       "    .dataframe tbody tr th:only-of-type {\n",
       "        vertical-align: middle;\n",
       "    }\n",
       "\n",
       "    .dataframe tbody tr th {\n",
       "        vertical-align: top;\n",
       "    }\n",
       "\n",
       "    .dataframe thead th {\n",
       "        text-align: right;\n",
       "    }\n",
       "</style>\n",
       "<table border=\"1\" class=\"dataframe\">\n",
       "  <thead>\n",
       "    <tr style=\"text-align: right;\">\n",
       "      <th></th>\n",
       "      <th>id</th>\n",
       "      <th>Overall Qual</th>\n",
       "      <th>Gr Liv Area</th>\n",
       "      <th>Exter Qual</th>\n",
       "      <th>Garage Cars</th>\n",
       "      <th>Garage Area</th>\n",
       "      <th>Kitchen Qual</th>\n",
       "      <th>Total Bsmt SF</th>\n",
       "      <th>1st Flr SF</th>\n",
       "      <th>Bsmt Qual</th>\n",
       "      <th>Full Bath</th>\n",
       "      <th>Year Built</th>\n",
       "      <th>Year Remod/Add</th>\n",
       "      <th>Garage Yr Blt</th>\n",
       "      <th>target</th>\n",
       "    </tr>\n",
       "  </thead>\n",
       "  <tbody>\n",
       "    <tr>\n",
       "      <th>0</th>\n",
       "      <td>1</td>\n",
       "      <td>10</td>\n",
       "      <td>2392</td>\n",
       "      <td>Ex</td>\n",
       "      <td>3</td>\n",
       "      <td>968</td>\n",
       "      <td>Ex</td>\n",
       "      <td>2392</td>\n",
       "      <td>2392</td>\n",
       "      <td>Ex</td>\n",
       "      <td>2</td>\n",
       "      <td>2003</td>\n",
       "      <td>2003</td>\n",
       "      <td>2003</td>\n",
       "      <td>386250</td>\n",
       "    </tr>\n",
       "    <tr>\n",
       "      <th>1</th>\n",
       "      <td>2</td>\n",
       "      <td>7</td>\n",
       "      <td>1352</td>\n",
       "      <td>Gd</td>\n",
       "      <td>2</td>\n",
       "      <td>466</td>\n",
       "      <td>Gd</td>\n",
       "      <td>1352</td>\n",
       "      <td>1352</td>\n",
       "      <td>Ex</td>\n",
       "      <td>2</td>\n",
       "      <td>2006</td>\n",
       "      <td>2007</td>\n",
       "      <td>2006</td>\n",
       "      <td>194000</td>\n",
       "    </tr>\n",
       "    <tr>\n",
       "      <th>2</th>\n",
       "      <td>3</td>\n",
       "      <td>5</td>\n",
       "      <td>900</td>\n",
       "      <td>TA</td>\n",
       "      <td>1</td>\n",
       "      <td>288</td>\n",
       "      <td>TA</td>\n",
       "      <td>864</td>\n",
       "      <td>900</td>\n",
       "      <td>TA</td>\n",
       "      <td>1</td>\n",
       "      <td>1967</td>\n",
       "      <td>1967</td>\n",
       "      <td>1967</td>\n",
       "      <td>123000</td>\n",
       "    </tr>\n",
       "    <tr>\n",
       "      <th>3</th>\n",
       "      <td>4</td>\n",
       "      <td>5</td>\n",
       "      <td>1174</td>\n",
       "      <td>TA</td>\n",
       "      <td>2</td>\n",
       "      <td>576</td>\n",
       "      <td>Gd</td>\n",
       "      <td>680</td>\n",
       "      <td>680</td>\n",
       "      <td>TA</td>\n",
       "      <td>1</td>\n",
       "      <td>1900</td>\n",
       "      <td>2006</td>\n",
       "      <td>2000</td>\n",
       "      <td>135000</td>\n",
       "    </tr>\n",
       "    <tr>\n",
       "      <th>4</th>\n",
       "      <td>5</td>\n",
       "      <td>7</td>\n",
       "      <td>1958</td>\n",
       "      <td>Gd</td>\n",
       "      <td>3</td>\n",
       "      <td>936</td>\n",
       "      <td>Gd</td>\n",
       "      <td>1026</td>\n",
       "      <td>1026</td>\n",
       "      <td>Gd</td>\n",
       "      <td>2</td>\n",
       "      <td>2005</td>\n",
       "      <td>2005</td>\n",
       "      <td>2005</td>\n",
       "      <td>250000</td>\n",
       "    </tr>\n",
       "    <tr>\n",
       "      <th>...</th>\n",
       "      <td>...</td>\n",
       "      <td>...</td>\n",
       "      <td>...</td>\n",
       "      <td>...</td>\n",
       "      <td>...</td>\n",
       "      <td>...</td>\n",
       "      <td>...</td>\n",
       "      <td>...</td>\n",
       "      <td>...</td>\n",
       "      <td>...</td>\n",
       "      <td>...</td>\n",
       "      <td>...</td>\n",
       "      <td>...</td>\n",
       "      <td>...</td>\n",
       "      <td>...</td>\n",
       "    </tr>\n",
       "    <tr>\n",
       "      <th>1345</th>\n",
       "      <td>1346</td>\n",
       "      <td>6</td>\n",
       "      <td>1756</td>\n",
       "      <td>Gd</td>\n",
       "      <td>2</td>\n",
       "      <td>422</td>\n",
       "      <td>TA</td>\n",
       "      <td>872</td>\n",
       "      <td>888</td>\n",
       "      <td>Ex</td>\n",
       "      <td>2</td>\n",
       "      <td>1996</td>\n",
       "      <td>1997</td>\n",
       "      <td>1996</td>\n",
       "      <td>204000</td>\n",
       "    </tr>\n",
       "    <tr>\n",
       "      <th>1346</th>\n",
       "      <td>1347</td>\n",
       "      <td>9</td>\n",
       "      <td>2748</td>\n",
       "      <td>Gd</td>\n",
       "      <td>3</td>\n",
       "      <td>850</td>\n",
       "      <td>Ex</td>\n",
       "      <td>1850</td>\n",
       "      <td>1850</td>\n",
       "      <td>Ex</td>\n",
       "      <td>2</td>\n",
       "      <td>2006</td>\n",
       "      <td>2006</td>\n",
       "      <td>2006</td>\n",
       "      <td>390000</td>\n",
       "    </tr>\n",
       "    <tr>\n",
       "      <th>1347</th>\n",
       "      <td>1348</td>\n",
       "      <td>5</td>\n",
       "      <td>1214</td>\n",
       "      <td>TA</td>\n",
       "      <td>1</td>\n",
       "      <td>318</td>\n",
       "      <td>TA</td>\n",
       "      <td>1214</td>\n",
       "      <td>1214</td>\n",
       "      <td>TA</td>\n",
       "      <td>2</td>\n",
       "      <td>1967</td>\n",
       "      <td>1967</td>\n",
       "      <td>1967</td>\n",
       "      <td>143000</td>\n",
       "    </tr>\n",
       "    <tr>\n",
       "      <th>1348</th>\n",
       "      <td>1349</td>\n",
       "      <td>5</td>\n",
       "      <td>894</td>\n",
       "      <td>TA</td>\n",
       "      <td>2</td>\n",
       "      <td>440</td>\n",
       "      <td>TA</td>\n",
       "      <td>864</td>\n",
       "      <td>894</td>\n",
       "      <td>Gd</td>\n",
       "      <td>1</td>\n",
       "      <td>1974</td>\n",
       "      <td>1974</td>\n",
       "      <td>1974</td>\n",
       "      <td>131000</td>\n",
       "    </tr>\n",
       "    <tr>\n",
       "      <th>1349</th>\n",
       "      <td>1350</td>\n",
       "      <td>5</td>\n",
       "      <td>907</td>\n",
       "      <td>TA</td>\n",
       "      <td>1</td>\n",
       "      <td>343</td>\n",
       "      <td>TA</td>\n",
       "      <td>907</td>\n",
       "      <td>907</td>\n",
       "      <td>Gd</td>\n",
       "      <td>1</td>\n",
       "      <td>1978</td>\n",
       "      <td>1978</td>\n",
       "      <td>1978</td>\n",
       "      <td>140000</td>\n",
       "    </tr>\n",
       "  </tbody>\n",
       "</table>\n",
       "<p>1350 rows × 15 columns</p>\n",
       "</div>"
      ],
      "text/plain": [
       "        id  Overall Qual  Gr Liv Area Exter Qual  Garage Cars  Garage Area  \\\n",
       "0        1            10         2392         Ex            3          968   \n",
       "1        2             7         1352         Gd            2          466   \n",
       "2        3             5          900         TA            1          288   \n",
       "3        4             5         1174         TA            2          576   \n",
       "4        5             7         1958         Gd            3          936   \n",
       "...    ...           ...          ...        ...          ...          ...   \n",
       "1345  1346             6         1756         Gd            2          422   \n",
       "1346  1347             9         2748         Gd            3          850   \n",
       "1347  1348             5         1214         TA            1          318   \n",
       "1348  1349             5          894         TA            2          440   \n",
       "1349  1350             5          907         TA            1          343   \n",
       "\n",
       "     Kitchen Qual  Total Bsmt SF  1st Flr SF Bsmt Qual  Full Bath  Year Built  \\\n",
       "0              Ex           2392        2392        Ex          2        2003   \n",
       "1              Gd           1352        1352        Ex          2        2006   \n",
       "2              TA            864         900        TA          1        1967   \n",
       "3              Gd            680         680        TA          1        1900   \n",
       "4              Gd           1026        1026        Gd          2        2005   \n",
       "...           ...            ...         ...       ...        ...         ...   \n",
       "1345           TA            872         888        Ex          2        1996   \n",
       "1346           Ex           1850        1850        Ex          2        2006   \n",
       "1347           TA           1214        1214        TA          2        1967   \n",
       "1348           TA            864         894        Gd          1        1974   \n",
       "1349           TA            907         907        Gd          1        1978   \n",
       "\n",
       "      Year Remod/Add  Garage Yr Blt  target  \n",
       "0               2003           2003  386250  \n",
       "1               2007           2006  194000  \n",
       "2               1967           1967  123000  \n",
       "3               2006           2000  135000  \n",
       "4               2005           2005  250000  \n",
       "...              ...            ...     ...  \n",
       "1345            1997           1996  204000  \n",
       "1346            2006           2006  390000  \n",
       "1347            1967           1967  143000  \n",
       "1348            1974           1974  131000  \n",
       "1349            1978           1978  140000  \n",
       "\n",
       "[1350 rows x 15 columns]"
      ]
     },
     "execution_count": 2,
     "metadata": {},
     "output_type": "execute_result"
    }
   ],
   "source": [
    "train_df = pd.read_csv('./data/train.csv',encoding='utf-8-sig')\n",
    "train_df"
   ]
  },
  {
   "cell_type": "markdown",
   "id": "9dd9b018",
   "metadata": {},
   "source": [
    "## test data"
   ]
  },
  {
   "cell_type": "code",
   "execution_count": 3,
   "id": "147a4e38",
   "metadata": {
    "ExecuteTime": {
     "end_time": "2022-01-27T14:01:08.714404Z",
     "start_time": "2022-01-27T14:01:08.685403Z"
    }
   },
   "outputs": [
    {
     "data": {
      "text/html": [
       "<div>\n",
       "<style scoped>\n",
       "    .dataframe tbody tr th:only-of-type {\n",
       "        vertical-align: middle;\n",
       "    }\n",
       "\n",
       "    .dataframe tbody tr th {\n",
       "        vertical-align: top;\n",
       "    }\n",
       "\n",
       "    .dataframe thead th {\n",
       "        text-align: right;\n",
       "    }\n",
       "</style>\n",
       "<table border=\"1\" class=\"dataframe\">\n",
       "  <thead>\n",
       "    <tr style=\"text-align: right;\">\n",
       "      <th></th>\n",
       "      <th>id</th>\n",
       "      <th>Overall Qual</th>\n",
       "      <th>Gr Liv Area</th>\n",
       "      <th>Exter Qual</th>\n",
       "      <th>Garage Cars</th>\n",
       "      <th>Garage Area</th>\n",
       "      <th>Kitchen Qual</th>\n",
       "      <th>Total Bsmt SF</th>\n",
       "      <th>1st Flr SF</th>\n",
       "      <th>Bsmt Qual</th>\n",
       "      <th>Full Bath</th>\n",
       "      <th>Year Built</th>\n",
       "      <th>Year Remod/Add</th>\n",
       "      <th>Garage Yr Blt</th>\n",
       "    </tr>\n",
       "  </thead>\n",
       "  <tbody>\n",
       "    <tr>\n",
       "      <th>0</th>\n",
       "      <td>1</td>\n",
       "      <td>9</td>\n",
       "      <td>1800</td>\n",
       "      <td>Gd</td>\n",
       "      <td>2</td>\n",
       "      <td>702</td>\n",
       "      <td>Ex</td>\n",
       "      <td>1800</td>\n",
       "      <td>1800</td>\n",
       "      <td>Ex</td>\n",
       "      <td>2</td>\n",
       "      <td>2007</td>\n",
       "      <td>2007</td>\n",
       "      <td>2007</td>\n",
       "    </tr>\n",
       "    <tr>\n",
       "      <th>1</th>\n",
       "      <td>2</td>\n",
       "      <td>6</td>\n",
       "      <td>1082</td>\n",
       "      <td>TA</td>\n",
       "      <td>1</td>\n",
       "      <td>240</td>\n",
       "      <td>TA</td>\n",
       "      <td>1082</td>\n",
       "      <td>1082</td>\n",
       "      <td>TA</td>\n",
       "      <td>1</td>\n",
       "      <td>1948</td>\n",
       "      <td>1950</td>\n",
       "      <td>1948</td>\n",
       "    </tr>\n",
       "    <tr>\n",
       "      <th>2</th>\n",
       "      <td>3</td>\n",
       "      <td>6</td>\n",
       "      <td>1573</td>\n",
       "      <td>Gd</td>\n",
       "      <td>2</td>\n",
       "      <td>440</td>\n",
       "      <td>Gd</td>\n",
       "      <td>756</td>\n",
       "      <td>769</td>\n",
       "      <td>Gd</td>\n",
       "      <td>2</td>\n",
       "      <td>2000</td>\n",
       "      <td>2000</td>\n",
       "      <td>2000</td>\n",
       "    </tr>\n",
       "    <tr>\n",
       "      <th>3</th>\n",
       "      <td>4</td>\n",
       "      <td>6</td>\n",
       "      <td>2443</td>\n",
       "      <td>Gd</td>\n",
       "      <td>3</td>\n",
       "      <td>744</td>\n",
       "      <td>Gd</td>\n",
       "      <td>1158</td>\n",
       "      <td>1158</td>\n",
       "      <td>Gd</td>\n",
       "      <td>2</td>\n",
       "      <td>2004</td>\n",
       "      <td>2004</td>\n",
       "      <td>2004</td>\n",
       "    </tr>\n",
       "    <tr>\n",
       "      <th>4</th>\n",
       "      <td>5</td>\n",
       "      <td>5</td>\n",
       "      <td>1040</td>\n",
       "      <td>TA</td>\n",
       "      <td>2</td>\n",
       "      <td>686</td>\n",
       "      <td>TA</td>\n",
       "      <td>1040</td>\n",
       "      <td>1040</td>\n",
       "      <td>TA</td>\n",
       "      <td>1</td>\n",
       "      <td>1968</td>\n",
       "      <td>1968</td>\n",
       "      <td>1991</td>\n",
       "    </tr>\n",
       "    <tr>\n",
       "      <th>...</th>\n",
       "      <td>...</td>\n",
       "      <td>...</td>\n",
       "      <td>...</td>\n",
       "      <td>...</td>\n",
       "      <td>...</td>\n",
       "      <td>...</td>\n",
       "      <td>...</td>\n",
       "      <td>...</td>\n",
       "      <td>...</td>\n",
       "      <td>...</td>\n",
       "      <td>...</td>\n",
       "      <td>...</td>\n",
       "      <td>...</td>\n",
       "      <td>...</td>\n",
       "    </tr>\n",
       "    <tr>\n",
       "      <th>1345</th>\n",
       "      <td>1346</td>\n",
       "      <td>8</td>\n",
       "      <td>1932</td>\n",
       "      <td>Ex</td>\n",
       "      <td>3</td>\n",
       "      <td>774</td>\n",
       "      <td>Ex</td>\n",
       "      <td>1932</td>\n",
       "      <td>1932</td>\n",
       "      <td>Ex</td>\n",
       "      <td>2</td>\n",
       "      <td>2008</td>\n",
       "      <td>2008</td>\n",
       "      <td>2008</td>\n",
       "    </tr>\n",
       "    <tr>\n",
       "      <th>1346</th>\n",
       "      <td>1347</td>\n",
       "      <td>5</td>\n",
       "      <td>912</td>\n",
       "      <td>TA</td>\n",
       "      <td>1</td>\n",
       "      <td>288</td>\n",
       "      <td>TA</td>\n",
       "      <td>912</td>\n",
       "      <td>912</td>\n",
       "      <td>TA</td>\n",
       "      <td>1</td>\n",
       "      <td>1964</td>\n",
       "      <td>1964</td>\n",
       "      <td>1964</td>\n",
       "    </tr>\n",
       "    <tr>\n",
       "      <th>1347</th>\n",
       "      <td>1348</td>\n",
       "      <td>4</td>\n",
       "      <td>861</td>\n",
       "      <td>TA</td>\n",
       "      <td>2</td>\n",
       "      <td>288</td>\n",
       "      <td>TA</td>\n",
       "      <td>861</td>\n",
       "      <td>861</td>\n",
       "      <td>Fa</td>\n",
       "      <td>1</td>\n",
       "      <td>1920</td>\n",
       "      <td>1950</td>\n",
       "      <td>1920</td>\n",
       "    </tr>\n",
       "    <tr>\n",
       "      <th>1348</th>\n",
       "      <td>1349</td>\n",
       "      <td>5</td>\n",
       "      <td>1430</td>\n",
       "      <td>TA</td>\n",
       "      <td>2</td>\n",
       "      <td>624</td>\n",
       "      <td>Gd</td>\n",
       "      <td>1430</td>\n",
       "      <td>1430</td>\n",
       "      <td>Ex</td>\n",
       "      <td>2</td>\n",
       "      <td>2004</td>\n",
       "      <td>2005</td>\n",
       "      <td>2004</td>\n",
       "    </tr>\n",
       "    <tr>\n",
       "      <th>1349</th>\n",
       "      <td>1350</td>\n",
       "      <td>5</td>\n",
       "      <td>2337</td>\n",
       "      <td>TA</td>\n",
       "      <td>2</td>\n",
       "      <td>560</td>\n",
       "      <td>TA</td>\n",
       "      <td>662</td>\n",
       "      <td>1422</td>\n",
       "      <td>TA</td>\n",
       "      <td>2</td>\n",
       "      <td>1900</td>\n",
       "      <td>1950</td>\n",
       "      <td>1945</td>\n",
       "    </tr>\n",
       "  </tbody>\n",
       "</table>\n",
       "<p>1350 rows × 14 columns</p>\n",
       "</div>"
      ],
      "text/plain": [
       "        id  Overall Qual  Gr Liv Area Exter Qual  Garage Cars  Garage Area  \\\n",
       "0        1             9         1800         Gd            2          702   \n",
       "1        2             6         1082         TA            1          240   \n",
       "2        3             6         1573         Gd            2          440   \n",
       "3        4             6         2443         Gd            3          744   \n",
       "4        5             5         1040         TA            2          686   \n",
       "...    ...           ...          ...        ...          ...          ...   \n",
       "1345  1346             8         1932         Ex            3          774   \n",
       "1346  1347             5          912         TA            1          288   \n",
       "1347  1348             4          861         TA            2          288   \n",
       "1348  1349             5         1430         TA            2          624   \n",
       "1349  1350             5         2337         TA            2          560   \n",
       "\n",
       "     Kitchen Qual  Total Bsmt SF  1st Flr SF Bsmt Qual  Full Bath  Year Built  \\\n",
       "0              Ex           1800        1800        Ex          2        2007   \n",
       "1              TA           1082        1082        TA          1        1948   \n",
       "2              Gd            756         769        Gd          2        2000   \n",
       "3              Gd           1158        1158        Gd          2        2004   \n",
       "4              TA           1040        1040        TA          1        1968   \n",
       "...           ...            ...         ...       ...        ...         ...   \n",
       "1345           Ex           1932        1932        Ex          2        2008   \n",
       "1346           TA            912         912        TA          1        1964   \n",
       "1347           TA            861         861        Fa          1        1920   \n",
       "1348           Gd           1430        1430        Ex          2        2004   \n",
       "1349           TA            662        1422        TA          2        1900   \n",
       "\n",
       "      Year Remod/Add  Garage Yr Blt  \n",
       "0               2007           2007  \n",
       "1               1950           1948  \n",
       "2               2000           2000  \n",
       "3               2004           2004  \n",
       "4               1968           1991  \n",
       "...              ...            ...  \n",
       "1345            2008           2008  \n",
       "1346            1964           1964  \n",
       "1347            1950           1920  \n",
       "1348            2005           2004  \n",
       "1349            1950           1945  \n",
       "\n",
       "[1350 rows x 14 columns]"
      ]
     },
     "execution_count": 3,
     "metadata": {},
     "output_type": "execute_result"
    }
   ],
   "source": [
    "test_df = pd.read_csv('./data/test.csv',encoding='utf-8-sig')\n",
    "test_df"
   ]
  },
  {
   "cell_type": "markdown",
   "id": "92bd8b6c",
   "metadata": {},
   "source": [
    "## 변수명 한글화"
   ]
  },
  {
   "cell_type": "code",
   "execution_count": 4,
   "id": "12c8c713",
   "metadata": {
    "ExecuteTime": {
     "end_time": "2022-01-27T14:01:08.729404Z",
     "start_time": "2022-01-27T14:01:08.715403Z"
    },
    "cell_style": "split",
    "scrolled": false
   },
   "outputs": [
    {
     "data": {
      "text/plain": [
       "['id',\n",
       " 'Overall Qual',\n",
       " 'Gr Liv Area',\n",
       " 'Exter Qual',\n",
       " 'Garage Cars',\n",
       " 'Garage Area',\n",
       " 'Kitchen Qual',\n",
       " 'Total Bsmt SF',\n",
       " '1st Flr SF',\n",
       " 'Bsmt Qual',\n",
       " 'Full Bath',\n",
       " 'Year Built',\n",
       " 'Year Remod/Add',\n",
       " 'Garage Yr Blt',\n",
       " 'target']"
      ]
     },
     "execution_count": 4,
     "metadata": {},
     "output_type": "execute_result"
    }
   ],
   "source": [
    "train_orgin_col = list(train_df.columns)\n",
    "train_orgin_col"
   ]
  },
  {
   "cell_type": "code",
   "execution_count": 5,
   "id": "9a2ddad5",
   "metadata": {
    "ExecuteTime": {
     "end_time": "2022-01-27T14:01:08.744406Z",
     "start_time": "2022-01-27T14:01:08.730404Z"
    },
    "cell_style": "split",
    "scrolled": false
   },
   "outputs": [
    {
     "data": {
      "text/plain": [
       "['id',\n",
       " 'Overall Qual',\n",
       " 'Gr Liv Area',\n",
       " 'Exter Qual',\n",
       " 'Garage Cars',\n",
       " 'Garage Area',\n",
       " 'Kitchen Qual',\n",
       " 'Total Bsmt SF',\n",
       " '1st Flr SF',\n",
       " 'Bsmt Qual',\n",
       " 'Full Bath',\n",
       " 'Year Built',\n",
       " 'Year Remod/Add',\n",
       " 'Garage Yr Blt']"
      ]
     },
     "execution_count": 5,
     "metadata": {},
     "output_type": "execute_result"
    }
   ],
   "source": [
    "test_orgin_col = list(test_df.columns)\n",
    "test_orgin_col"
   ]
  },
  {
   "cell_type": "code",
   "execution_count": 6,
   "id": "5c0eddd4",
   "metadata": {
    "ExecuteTime": {
     "end_time": "2022-01-27T14:01:08.759512Z",
     "start_time": "2022-01-27T14:01:08.745414Z"
    },
    "cell_style": "center"
   },
   "outputs": [],
   "source": [
    "train_kor_col = ['고유ID','전반적품질','지상층면적','외관재료품질','차고케파','차고면적','부엌품질','지하실면적','1층면적','지하실높이'\n",
    "                 ,'지상층화장실개수','완공연도','리모델링연도','차고완공연도','target']"
   ]
  },
  {
   "cell_type": "code",
   "execution_count": 7,
   "id": "65efe534",
   "metadata": {
    "ExecuteTime": {
     "end_time": "2022-01-27T14:01:08.774528Z",
     "start_time": "2022-01-27T14:01:08.760514Z"
    }
   },
   "outputs": [],
   "source": [
    "test_kor_col = ['고유ID','전반적품질','지상층면적','외관재료품질','차고케파','차고면적','부엌품질','지하실면적','1층면적','지하실높이'\n",
    "                 ,'지상층화장실개수','완공연도','리모델링연도','차고완공연도']"
   ]
  },
  {
   "cell_type": "code",
   "execution_count": 8,
   "id": "cdd98122",
   "metadata": {
    "ExecuteTime": {
     "end_time": "2022-01-27T14:01:08.789528Z",
     "start_time": "2022-01-27T14:01:08.775529Z"
    }
   },
   "outputs": [
    {
     "data": {
      "text/html": [
       "<div>\n",
       "<style scoped>\n",
       "    .dataframe tbody tr th:only-of-type {\n",
       "        vertical-align: middle;\n",
       "    }\n",
       "\n",
       "    .dataframe tbody tr th {\n",
       "        vertical-align: top;\n",
       "    }\n",
       "\n",
       "    .dataframe thead th {\n",
       "        text-align: right;\n",
       "    }\n",
       "</style>\n",
       "<table border=\"1\" class=\"dataframe\">\n",
       "  <thead>\n",
       "    <tr style=\"text-align: right;\">\n",
       "      <th></th>\n",
       "      <th>고유ID</th>\n",
       "      <th>전반적품질</th>\n",
       "      <th>지상층면적</th>\n",
       "      <th>외관재료품질</th>\n",
       "      <th>차고케파</th>\n",
       "      <th>차고면적</th>\n",
       "      <th>부엌품질</th>\n",
       "      <th>지하실면적</th>\n",
       "      <th>1층면적</th>\n",
       "      <th>지하실높이</th>\n",
       "      <th>지상층화장실개수</th>\n",
       "      <th>완공연도</th>\n",
       "      <th>리모델링연도</th>\n",
       "      <th>차고완공연도</th>\n",
       "      <th>target</th>\n",
       "    </tr>\n",
       "  </thead>\n",
       "  <tbody>\n",
       "    <tr>\n",
       "      <th>0</th>\n",
       "      <td>1</td>\n",
       "      <td>10</td>\n",
       "      <td>2392</td>\n",
       "      <td>Ex</td>\n",
       "      <td>3</td>\n",
       "      <td>968</td>\n",
       "      <td>Ex</td>\n",
       "      <td>2392</td>\n",
       "      <td>2392</td>\n",
       "      <td>Ex</td>\n",
       "      <td>2</td>\n",
       "      <td>2003</td>\n",
       "      <td>2003</td>\n",
       "      <td>2003</td>\n",
       "      <td>386250</td>\n",
       "    </tr>\n",
       "    <tr>\n",
       "      <th>1</th>\n",
       "      <td>2</td>\n",
       "      <td>7</td>\n",
       "      <td>1352</td>\n",
       "      <td>Gd</td>\n",
       "      <td>2</td>\n",
       "      <td>466</td>\n",
       "      <td>Gd</td>\n",
       "      <td>1352</td>\n",
       "      <td>1352</td>\n",
       "      <td>Ex</td>\n",
       "      <td>2</td>\n",
       "      <td>2006</td>\n",
       "      <td>2007</td>\n",
       "      <td>2006</td>\n",
       "      <td>194000</td>\n",
       "    </tr>\n",
       "    <tr>\n",
       "      <th>2</th>\n",
       "      <td>3</td>\n",
       "      <td>5</td>\n",
       "      <td>900</td>\n",
       "      <td>TA</td>\n",
       "      <td>1</td>\n",
       "      <td>288</td>\n",
       "      <td>TA</td>\n",
       "      <td>864</td>\n",
       "      <td>900</td>\n",
       "      <td>TA</td>\n",
       "      <td>1</td>\n",
       "      <td>1967</td>\n",
       "      <td>1967</td>\n",
       "      <td>1967</td>\n",
       "      <td>123000</td>\n",
       "    </tr>\n",
       "    <tr>\n",
       "      <th>3</th>\n",
       "      <td>4</td>\n",
       "      <td>5</td>\n",
       "      <td>1174</td>\n",
       "      <td>TA</td>\n",
       "      <td>2</td>\n",
       "      <td>576</td>\n",
       "      <td>Gd</td>\n",
       "      <td>680</td>\n",
       "      <td>680</td>\n",
       "      <td>TA</td>\n",
       "      <td>1</td>\n",
       "      <td>1900</td>\n",
       "      <td>2006</td>\n",
       "      <td>2000</td>\n",
       "      <td>135000</td>\n",
       "    </tr>\n",
       "    <tr>\n",
       "      <th>4</th>\n",
       "      <td>5</td>\n",
       "      <td>7</td>\n",
       "      <td>1958</td>\n",
       "      <td>Gd</td>\n",
       "      <td>3</td>\n",
       "      <td>936</td>\n",
       "      <td>Gd</td>\n",
       "      <td>1026</td>\n",
       "      <td>1026</td>\n",
       "      <td>Gd</td>\n",
       "      <td>2</td>\n",
       "      <td>2005</td>\n",
       "      <td>2005</td>\n",
       "      <td>2005</td>\n",
       "      <td>250000</td>\n",
       "    </tr>\n",
       "  </tbody>\n",
       "</table>\n",
       "</div>"
      ],
      "text/plain": [
       "   고유ID  전반적품질  지상층면적 외관재료품질  차고케파  차고면적 부엌품질  지하실면적  1층면적 지하실높이  지상층화장실개수  \\\n",
       "0     1     10   2392     Ex     3   968   Ex   2392  2392    Ex         2   \n",
       "1     2      7   1352     Gd     2   466   Gd   1352  1352    Ex         2   \n",
       "2     3      5    900     TA     1   288   TA    864   900    TA         1   \n",
       "3     4      5   1174     TA     2   576   Gd    680   680    TA         1   \n",
       "4     5      7   1958     Gd     3   936   Gd   1026  1026    Gd         2   \n",
       "\n",
       "   완공연도  리모델링연도  차고완공연도  target  \n",
       "0  2003    2003    2003  386250  \n",
       "1  2006    2007    2006  194000  \n",
       "2  1967    1967    1967  123000  \n",
       "3  1900    2006    2000  135000  \n",
       "4  2005    2005    2005  250000  "
      ]
     },
     "execution_count": 8,
     "metadata": {},
     "output_type": "execute_result"
    }
   ],
   "source": [
    "train_col_dict = {}\n",
    "for k,v in zip(train_orgin_col,train_kor_col):\n",
    "    train_col_dict[k] = v\n",
    "    \n",
    "train_df = train_df.rename(columns=train_col_dict)\n",
    "train_df.head()"
   ]
  },
  {
   "cell_type": "code",
   "execution_count": 10,
   "id": "371a5664",
   "metadata": {
    "ExecuteTime": {
     "end_time": "2022-01-27T14:02:52.022287Z",
     "start_time": "2022-01-27T14:02:52.010686Z"
    }
   },
   "outputs": [
    {
     "data": {
      "text/plain": [
       "array(['Ex', 'Gd', 'TA', 'Fa'], dtype=object)"
      ]
     },
     "execution_count": 10,
     "metadata": {},
     "output_type": "execute_result"
    }
   ],
   "source": [
    "train_df['외관재료품질'].unique()"
   ]
  },
  {
   "cell_type": "code",
   "execution_count": 9,
   "id": "bc2dedd3",
   "metadata": {
    "ExecuteTime": {
     "end_time": "2022-01-27T14:01:08.804530Z",
     "start_time": "2022-01-27T14:01:08.790531Z"
    }
   },
   "outputs": [
    {
     "data": {
      "text/html": [
       "<div>\n",
       "<style scoped>\n",
       "    .dataframe tbody tr th:only-of-type {\n",
       "        vertical-align: middle;\n",
       "    }\n",
       "\n",
       "    .dataframe tbody tr th {\n",
       "        vertical-align: top;\n",
       "    }\n",
       "\n",
       "    .dataframe thead th {\n",
       "        text-align: right;\n",
       "    }\n",
       "</style>\n",
       "<table border=\"1\" class=\"dataframe\">\n",
       "  <thead>\n",
       "    <tr style=\"text-align: right;\">\n",
       "      <th></th>\n",
       "      <th>고유ID</th>\n",
       "      <th>전반적품질</th>\n",
       "      <th>지상층면적</th>\n",
       "      <th>외관재료품질</th>\n",
       "      <th>차고케파</th>\n",
       "      <th>차고면적</th>\n",
       "      <th>부엌품질</th>\n",
       "      <th>지하실면적</th>\n",
       "      <th>1층면적</th>\n",
       "      <th>지하실높이</th>\n",
       "      <th>지상층화장실개수</th>\n",
       "      <th>완공연도</th>\n",
       "      <th>리모델링연도</th>\n",
       "      <th>차고완공연도</th>\n",
       "    </tr>\n",
       "  </thead>\n",
       "  <tbody>\n",
       "    <tr>\n",
       "      <th>0</th>\n",
       "      <td>1</td>\n",
       "      <td>9</td>\n",
       "      <td>1800</td>\n",
       "      <td>Gd</td>\n",
       "      <td>2</td>\n",
       "      <td>702</td>\n",
       "      <td>Ex</td>\n",
       "      <td>1800</td>\n",
       "      <td>1800</td>\n",
       "      <td>Ex</td>\n",
       "      <td>2</td>\n",
       "      <td>2007</td>\n",
       "      <td>2007</td>\n",
       "      <td>2007</td>\n",
       "    </tr>\n",
       "    <tr>\n",
       "      <th>1</th>\n",
       "      <td>2</td>\n",
       "      <td>6</td>\n",
       "      <td>1082</td>\n",
       "      <td>TA</td>\n",
       "      <td>1</td>\n",
       "      <td>240</td>\n",
       "      <td>TA</td>\n",
       "      <td>1082</td>\n",
       "      <td>1082</td>\n",
       "      <td>TA</td>\n",
       "      <td>1</td>\n",
       "      <td>1948</td>\n",
       "      <td>1950</td>\n",
       "      <td>1948</td>\n",
       "    </tr>\n",
       "    <tr>\n",
       "      <th>2</th>\n",
       "      <td>3</td>\n",
       "      <td>6</td>\n",
       "      <td>1573</td>\n",
       "      <td>Gd</td>\n",
       "      <td>2</td>\n",
       "      <td>440</td>\n",
       "      <td>Gd</td>\n",
       "      <td>756</td>\n",
       "      <td>769</td>\n",
       "      <td>Gd</td>\n",
       "      <td>2</td>\n",
       "      <td>2000</td>\n",
       "      <td>2000</td>\n",
       "      <td>2000</td>\n",
       "    </tr>\n",
       "    <tr>\n",
       "      <th>3</th>\n",
       "      <td>4</td>\n",
       "      <td>6</td>\n",
       "      <td>2443</td>\n",
       "      <td>Gd</td>\n",
       "      <td>3</td>\n",
       "      <td>744</td>\n",
       "      <td>Gd</td>\n",
       "      <td>1158</td>\n",
       "      <td>1158</td>\n",
       "      <td>Gd</td>\n",
       "      <td>2</td>\n",
       "      <td>2004</td>\n",
       "      <td>2004</td>\n",
       "      <td>2004</td>\n",
       "    </tr>\n",
       "    <tr>\n",
       "      <th>4</th>\n",
       "      <td>5</td>\n",
       "      <td>5</td>\n",
       "      <td>1040</td>\n",
       "      <td>TA</td>\n",
       "      <td>2</td>\n",
       "      <td>686</td>\n",
       "      <td>TA</td>\n",
       "      <td>1040</td>\n",
       "      <td>1040</td>\n",
       "      <td>TA</td>\n",
       "      <td>1</td>\n",
       "      <td>1968</td>\n",
       "      <td>1968</td>\n",
       "      <td>1991</td>\n",
       "    </tr>\n",
       "  </tbody>\n",
       "</table>\n",
       "</div>"
      ],
      "text/plain": [
       "   고유ID  전반적품질  지상층면적 외관재료품질  차고케파  차고면적 부엌품질  지하실면적  1층면적 지하실높이  지상층화장실개수  \\\n",
       "0     1      9   1800     Gd     2   702   Ex   1800  1800    Ex         2   \n",
       "1     2      6   1082     TA     1   240   TA   1082  1082    TA         1   \n",
       "2     3      6   1573     Gd     2   440   Gd    756   769    Gd         2   \n",
       "3     4      6   2443     Gd     3   744   Gd   1158  1158    Gd         2   \n",
       "4     5      5   1040     TA     2   686   TA   1040  1040    TA         1   \n",
       "\n",
       "   완공연도  리모델링연도  차고완공연도  \n",
       "0  2007    2007    2007  \n",
       "1  1948    1950    1948  \n",
       "2  2000    2000    2000  \n",
       "3  2004    2004    2004  \n",
       "4  1968    1968    1991  "
      ]
     },
     "execution_count": 9,
     "metadata": {},
     "output_type": "execute_result"
    }
   ],
   "source": [
    "test_col_dict = {}\n",
    "for k,v in zip(test_orgin_col,test_kor_col):\n",
    "    test_col_dict[k] = v\n",
    "    \n",
    "test_df = test_df.rename(columns=test_col_dict)\n",
    "test_df.head()"
   ]
  },
  {
   "cell_type": "markdown",
   "id": "e793e87f",
   "metadata": {},
   "source": [
    "# 개별 피쳐 EDA"
   ]
  },
  {
   "cell_type": "markdown",
   "id": "f11cc88e",
   "metadata": {},
   "source": [
    "## Ex,TA,Gd,Fa 데이터"
   ]
  },
  {
   "cell_type": "code",
   "execution_count": 58,
   "id": "b907d285",
   "metadata": {
    "ExecuteTime": {
     "end_time": "2022-01-27T14:34:17.457379Z",
     "start_time": "2022-01-27T14:34:17.449382Z"
    }
   },
   "outputs": [],
   "source": [
    "def rating_data_LE(x):\n",
    "    \n",
    "    if x == 'Ex':\n",
    "        return 3\n",
    "    elif x == 'Gd':\n",
    "        return 2\n",
    "    elif x == 'TA':\n",
    "        return 1\n",
    "    elif x == 'Fa':\n",
    "        return 0\n",
    "\n",
    "\n",
    "def rating_data_EDA(column_name):\n",
    "    \n",
    "    EX = train_df[train_df[column_name]=='Ex']['target']\n",
    "    Gd = train_df[train_df[column_name]=='Gd']['target']\n",
    "    TA = train_df[train_df[column_name]=='TA']['target']\n",
    "    Fa = train_df[train_df[column_name]=='Fa']['target']\n",
    "\n",
    "    F_statistic, pVal = f_oneway(EX, Gd, TA, Fa)\n",
    "    \n",
    "    train_df[f'{column_name}_LE'] = train_df[column_name].map(rating_data_LE)\n",
    "    \n",
    "    corr_data = spearmanr(train_df[f'{column_name}_LE'],train_df['target'])\n",
    "    \n",
    "    plt.boxplot([EX, Gd, TA, Fa],labels=['Ex','Gd','TA','Fa'])\n",
    "    plt.show()\n",
    "    return pd.DataFrame.from_dict({'F통계량':F_statistic,'Anova_p_val':pVal,'corr':np.round(corr_data[0],5)},orient='index').T"
   ]
  },
  {
   "cell_type": "markdown",
   "id": "0d1ea49d",
   "metadata": {},
   "source": [
    "## 외관재료 품질"
   ]
  },
  {
   "cell_type": "code",
   "execution_count": 52,
   "id": "099f8701",
   "metadata": {
    "ExecuteTime": {
     "end_time": "2022-01-27T14:32:34.830663Z",
     "start_time": "2022-01-27T14:32:34.733090Z"
    }
   },
   "outputs": [
    {
     "data": {
      "image/png": "[encoded data removed]",
      "text/plain": [
       "<Figure size 432x288 with 1 Axes>"
      ]
     },
     "metadata": {
      "needs_background": "light"
     },
     "output_type": "display_data"
    },
    {
     "data": {
      "text/html": [
       "<div>\n",
       "<style scoped>\n",
       "    .dataframe tbody tr th:only-of-type {\n",
       "        vertical-align: middle;\n",
       "    }\n",
       "\n",
       "    .dataframe tbody tr th {\n",
       "        vertical-align: top;\n",
       "    }\n",
       "\n",
       "    .dataframe thead th {\n",
       "        text-align: right;\n",
       "    }\n",
       "</style>\n",
       "<table border=\"1\" class=\"dataframe\">\n",
       "  <thead>\n",
       "    <tr style=\"text-align: right;\">\n",
       "      <th></th>\n",
       "      <th>F통계량</th>\n",
       "      <th>Anova_p_val</th>\n",
       "      <th>corr</th>\n",
       "    </tr>\n",
       "  </thead>\n",
       "  <tbody>\n",
       "    <tr>\n",
       "      <th>0</th>\n",
       "      <td>425.332589</td>\n",
       "      <td>2.620766e-194</td>\n",
       "      <td>0.68702</td>\n",
       "    </tr>\n",
       "  </tbody>\n",
       "</table>\n",
       "</div>"
      ],
      "text/plain": [
       "         F통계량    Anova_p_val     corr\n",
       "0  425.332589  2.620766e-194  0.68702"
      ]
     },
     "execution_count": 52,
     "metadata": {},
     "output_type": "execute_result"
    }
   ],
   "source": [
    "rating_data_EDA('외관재료품질')\n",
    "\n",
    "# 통계적으로 유의한 차이가 있음"
   ]
  },
  {
   "cell_type": "markdown",
   "id": "ba2581d9",
   "metadata": {},
   "source": [
    "## 부엌품질"
   ]
  },
  {
   "cell_type": "code",
   "execution_count": 53,
   "id": "8b97bdd0",
   "metadata": {
    "ExecuteTime": {
     "end_time": "2022-01-27T14:33:07.423836Z",
     "start_time": "2022-01-27T14:33:07.334559Z"
    }
   },
   "outputs": [
    {
     "data": {
      "image/png": "[encoded data removed]",
      "text/plain": [
       "<Figure size 432x288 with 1 Axes>"
      ]
     },
     "metadata": {
      "needs_background": "light"
     },
     "output_type": "display_data"
    },
    {
     "data": {
      "text/html": [
       "<div>\n",
       "<style scoped>\n",
       "    .dataframe tbody tr th:only-of-type {\n",
       "        vertical-align: middle;\n",
       "    }\n",
       "\n",
       "    .dataframe tbody tr th {\n",
       "        vertical-align: top;\n",
       "    }\n",
       "\n",
       "    .dataframe thead th {\n",
       "        text-align: right;\n",
       "    }\n",
       "</style>\n",
       "<table border=\"1\" class=\"dataframe\">\n",
       "  <thead>\n",
       "    <tr style=\"text-align: right;\">\n",
       "      <th></th>\n",
       "      <th>F통계량</th>\n",
       "      <th>Anova_p_val</th>\n",
       "      <th>corr</th>\n",
       "    </tr>\n",
       "  </thead>\n",
       "  <tbody>\n",
       "    <tr>\n",
       "      <th>0</th>\n",
       "      <td>387.87523</td>\n",
       "      <td>1.624351e-181</td>\n",
       "      <td>0.65799</td>\n",
       "    </tr>\n",
       "  </tbody>\n",
       "</table>\n",
       "</div>"
      ],
      "text/plain": [
       "        F통계량    Anova_p_val     corr\n",
       "0  387.87523  1.624351e-181  0.65799"
      ]
     },
     "execution_count": 53,
     "metadata": {},
     "output_type": "execute_result"
    }
   ],
   "source": [
    "rating_data_EDA('부엌품질')\n",
    "\n",
    "# 통계적으로 유의한 차이가 있음"
   ]
  },
  {
   "cell_type": "markdown",
   "id": "a5536cce",
   "metadata": {},
   "source": [
    "## 지하실 높이"
   ]
  },
  {
   "cell_type": "code",
   "execution_count": 59,
   "id": "e3e985be",
   "metadata": {
    "ExecuteTime": {
     "end_time": "2022-01-27T14:34:20.059528Z",
     "start_time": "2022-01-27T14:34:19.969246Z"
    }
   },
   "outputs": [
    {
     "data": {
      "image/png": "[encoded data removed]",
      "text/plain": [
       "<Figure size 432x288 with 1 Axes>"
      ]
     },
     "metadata": {
      "needs_background": "light"
     },
     "output_type": "display_data"
    },
    {
     "data": {
      "text/html": [
       "<div>\n",
       "<style scoped>\n",
       "    .dataframe tbody tr th:only-of-type {\n",
       "        vertical-align: middle;\n",
       "    }\n",
       "\n",
       "    .dataframe tbody tr th {\n",
       "        vertical-align: top;\n",
       "    }\n",
       "\n",
       "    .dataframe thead th {\n",
       "        text-align: right;\n",
       "    }\n",
       "</style>\n",
       "<table border=\"1\" class=\"dataframe\">\n",
       "  <thead>\n",
       "    <tr style=\"text-align: right;\">\n",
       "      <th></th>\n",
       "      <th>F통계량</th>\n",
       "      <th>Anova_p_val</th>\n",
       "      <th>corr</th>\n",
       "    </tr>\n",
       "  </thead>\n",
       "  <tbody>\n",
       "    <tr>\n",
       "      <th>0</th>\n",
       "      <td>462.428391</td>\n",
       "      <td>0.0</td>\n",
       "      <td>[nan, nan]</td>\n",
       "    </tr>\n",
       "  </tbody>\n",
       "</table>\n",
       "</div>"
      ],
      "text/plain": [
       "         F통계량 Anova_p_val        corr\n",
       "0  462.428391         0.0  [nan, nan]"
      ]
     },
     "execution_count": 59,
     "metadata": {},
     "output_type": "execute_result"
    }
   ],
   "source": [
    "rating_data_EDA('지하실높이')\n",
    "\n",
    "# 통계적으로 유의한 차이가 있음"
   ]
  }
 ],
 "metadata": {
  "kernelspec": {
   "display_name": "Python 3 (ipykernel)",
   "language": "python",
   "name": "python3"
  },
  "language_info": {
   "codemirror_mode": {
    "name": "ipython",
    "version": 3
   },
   "file_extension": ".py",
   "mimetype": "text/x-python",
   "name": "python",
   "nbconvert_exporter": "python",
   "pygments_lexer": "ipython3",
   "version": "3.7.11"
  },
  "toc": {
   "base_numbering": 1,
   "nav_menu": {},
   "number_sections": true,
   "sideBar": true,
   "skip_h1_title": false,
   "title_cell": "Table of Contents",
   "title_sidebar": "Contents",
   "toc_cell": false,
   "toc_position": {},
   "toc_section_display": true,
   "toc_window_display": false
  },
  "varInspector": {
   "cols": {
    "lenName": 16,
    "lenType": 16,
    "lenVar": 40
   },
   "kernels_config": {
    "python": {
     "delete_cmd_postfix": "",
     "delete_cmd_prefix": "del ",
     "library": "var_list.py",
     "varRefreshCmd": "print(var_dic_list())"
    },
    "r": {
     "delete_cmd_postfix": ") ",
     "delete_cmd_prefix": "rm(",
     "library": "var_list.r",
     "varRefreshCmd": "cat(var_dic_list()) "
    }
   },
   "types_to_exclude": [
    "module",
    "function",
    "builtin_function_or_method",
    "instance",
    "_Feature"
   ],
   "window_display": false
  }
 },
 "nbformat": 4,
 "nbformat_minor": 5
}
